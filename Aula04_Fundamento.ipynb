{
  "nbformat": 4,
  "nbformat_minor": 0,
  "metadata": {
    "colab": {
      "provenance": [],
      "authorship_tag": "ABX9TyPA9DgJJatEt9j0syYn1STc",
      "include_colab_link": true
    },
    "kernelspec": {
      "name": "python3",
      "display_name": "Python 3"
    },
    "language_info": {
      "name": "python"
    }
  },
  "cells": [
    {
      "cell_type": "markdown",
      "metadata": {
        "id": "view-in-github",
        "colab_type": "text"
      },
      "source": [
        "<a href=\"https://colab.research.google.com/github/Ricardo-1970/Insira-arquivos_aulas_LinguagemProgramacaoI/blob/main/Aula04_Fundamento.ipynb\" target=\"_parent\"><img src=\"https://colab.research.google.com/assets/colab-badge.svg\" alt=\"Open In Colab\"/></a>"
      ]
    },
    {
      "cell_type": "markdown",
      "source": [
        "# **Aula 04 - Fundamentos da Linguagem Python**\n",
        "\n",
        "*   Laços de repetição\n",
        "*   Listas\n",
        "*   Funções\n"
      ],
      "metadata": {
        "id": "P63sV7wMWlMd"
      }
    },
    {
      "cell_type": "markdown",
      "source": [
        "## EXERCÍCIO 16 - Loops e Listas"
      ],
      "metadata": {
        "id": "QdCIErlUXcUs"
      }
    },
    {
      "cell_type": "code",
      "source": [
        "the_count = {1,2,3,4,5}\n",
        "fruits ={'apples','oranges','pears','apricots'}\n",
        "change = {1,'pennies',2,'dimes',3,'quarters'}\n",
        "\n",
        "for number in the_count:# percorre item por item de uma estrutra de dados\n",
        "  print(f\"this is the count {number}\")\n",
        "\n",
        "for fruit in fruits:\n",
        "  print(f\"A fruit of type:{fruit}\")\n",
        "\n",
        "for i in change:\n",
        "  print(f\"I got {i}\")\n",
        "\n",
        "elements = []\n",
        "\n",
        "for i in range(0,6):\n",
        " print(f\"adding {i} to the list.\")\n",
        "\n",
        " elements.append (i)\n",
        "\n",
        "for i in elements:\n",
        " print(f\"Element was: {i}\")\n",
        "\n"
      ],
      "metadata": {
        "id": "yxXollZ0Xl8F",
        "colab": {
          "base_uri": "https://localhost:8080/"
        },
        "outputId": "c3916384-7a0d-4f41-863d-96eeac9fb075"
      },
      "execution_count": null,
      "outputs": [
        {
          "output_type": "stream",
          "name": "stdout",
          "text": [
            "this is the count 1\n",
            "this is the count 2\n",
            "this is the count 3\n",
            "this is the count 4\n",
            "this is the count 5\n",
            "A fruit of type:apples\n",
            "A fruit of type:pears\n",
            "A fruit of type:apricots\n",
            "A fruit of type:oranges\n",
            "I got 1\n",
            "I got 2\n",
            "I got 3\n",
            "I got quarters\n",
            "I got pennies\n",
            "I got dimes\n",
            "adding 0 to the list.\n",
            "adding 1 to the list.\n",
            "adding 2 to the list.\n",
            "adding 3 to the list.\n",
            "adding 4 to the list.\n",
            "adding 5 to the list.\n",
            "Element was: 0\n",
            "Element was: 1\n",
            "Element was: 2\n",
            "Element was: 3\n",
            "Element was: 4\n",
            "Element was: 5\n"
          ]
        }
      ]
    },
    {
      "cell_type": "markdown",
      "source": [
        "### **Novidades neste exercício**\n",
        "\n",
        "\n",
        "\n",
        "1.   Uso da sintaxe, for...in, para percorrer e mostrar uma lista"
      ],
      "metadata": {
        "id": "rgyCdfBspoEb"
      }
    },
    {
      "cell_type": "code",
      "source": [
        "for fruit in fruits:\n",
        "  print(f\"A fruit of type:{fruit}\")"
      ],
      "metadata": {
        "colab": {
          "base_uri": "https://localhost:8080/"
        },
        "id": "Rqw3V-t2qlGe",
        "outputId": "99a68dc4-7382-42bb-8f66-e655239893f9"
      },
      "execution_count": null,
      "outputs": [
        {
          "output_type": "stream",
          "name": "stdout",
          "text": [
            "A fruit of type:apples\n",
            "A fruit of type:pears\n",
            "A fruit of type:apricots\n",
            "A fruit of type:oranges\n"
          ]
        }
      ]
    },
    {
      "cell_type": "markdown",
      "source": [
        "2.   Uso da sintaxe, elements.append,adiciona o valor de uma variável ou de um item no final de uma lista."
      ],
      "metadata": {
        "id": "ltLtbViqv6YA"
      }
    },
    {
      "cell_type": "code",
      "source": [
        "for i in range(0,6):\n",
        " print(f\"adding {i} to the list.\")\n",
        "\n",
        " elements.append (i)\n",
        "\n",
        "for i in elements:\n",
        " print(f\"Element was: {i}\")"
      ],
      "metadata": {
        "id": "9ntaY4BUw6km"
      },
      "execution_count": null,
      "outputs": []
    },
    {
      "cell_type": "markdown",
      "source": [
        "## EXERCÍCIO 17 - Loops While"
      ],
      "metadata": {
        "id": "su3_LJYT69C2"
      }
    },
    {
      "cell_type": "code",
      "source": [
        "i = 0\n",
        "numbers = []\n",
        "\n",
        "while i < 6:\n",
        "  print(f\"At the top i is {i}\")\n",
        "  numbers.append(i)\n",
        "\n",
        "  i = i + 1\n",
        "  print(\"Numbers now: \", numbers)\n",
        "  print(f\"At the bottom i is {i}\")\n",
        "\n",
        "print(\"The numbers: \")\n",
        "for num in numbers:\n",
        "  print(num)"
      ],
      "metadata": {
        "colab": {
          "base_uri": "https://localhost:8080/"
        },
        "id": "DZZcKZAo7Gqd",
        "outputId": "7ccf6593-41d2-4fdb-9e3b-5d5c62c0937f"
      },
      "execution_count": null,
      "outputs": [
        {
          "output_type": "stream",
          "name": "stdout",
          "text": [
            "At the top i is 0\n",
            "Numbers now:  [0]\n",
            "At the bottom i is 1\n",
            "At the top i is 1\n",
            "Numbers now:  [0, 1]\n",
            "At the bottom i is 2\n",
            "At the top i is 2\n",
            "Numbers now:  [0, 1, 2]\n",
            "At the bottom i is 3\n",
            "At the top i is 3\n",
            "Numbers now:  [0, 1, 2, 3]\n",
            "At the bottom i is 4\n",
            "At the top i is 4\n",
            "Numbers now:  [0, 1, 2, 3, 4]\n",
            "At the bottom i is 5\n",
            "At the top i is 5\n",
            "Numbers now:  [0, 1, 2, 3, 4, 5]\n",
            "At the bottom i is 6\n",
            "The numbers: \n",
            "0\n",
            "1\n",
            "2\n",
            "3\n",
            "4\n",
            "5\n"
          ]
        }
      ]
    },
    {
      "cell_type": "markdown",
      "source": [
        "### **Novidades neste exercício**\n",
        "\n",
        "\n",
        "\n",
        "1.   Uso da sintaxe, while, ela  percorre uma estrutura de dados e finaliza a iteração devido a uma condição estabelecida."
      ],
      "metadata": {
        "id": "0UaJIVxJ_Gyc"
      }
    },
    {
      "cell_type": "code",
      "source": [
        "i = 3\n",
        "numbers = []\n",
        "\n",
        "while i < 18:\n",
        "  print(f\"At the top i is {i}\")\n",
        "  numbers.append(i)\n",
        "\n",
        "  i = i + 3\n",
        "  print(\"Numbers now: \", numbers)\n",
        "  print(f\"At the bottom i is {i}\")\n",
        "\n",
        "print(\"The numbers: \")\n",
        "for num in numbers:\n",
        "  print(num)"
      ],
      "metadata": {
        "colab": {
          "base_uri": "https://localhost:8080/"
        },
        "id": "ZwYvpnhz_0JJ",
        "outputId": "08b11a4d-5390-44a4-b4de-53ed473edf9e"
      },
      "execution_count": null,
      "outputs": [
        {
          "output_type": "stream",
          "name": "stdout",
          "text": [
            "At the top i is 3\n",
            "Numbers now:  [3]\n",
            "At the bottom i is 6\n",
            "At the top i is 6\n",
            "Numbers now:  [3, 6]\n",
            "At the bottom i is 9\n",
            "At the top i is 9\n",
            "Numbers now:  [3, 6, 9]\n",
            "At the bottom i is 12\n",
            "At the top i is 12\n",
            "Numbers now:  [3, 6, 9, 12]\n",
            "At the bottom i is 15\n",
            "At the top i is 15\n",
            "Numbers now:  [3, 6, 9, 12, 15]\n",
            "At the bottom i is 18\n",
            "The numbers: \n",
            "3\n",
            "6\n",
            "9\n",
            "12\n",
            "15\n"
          ]
        }
      ]
    },
    {
      "cell_type": "markdown",
      "source": [
        "## EXERCÍCIO 18 - Nomes, Variáveis, Códigos, Funções\n",
        "\n",
        "\n"
      ],
      "metadata": {
        "id": "uUpwwO3FhDB3"
      }
    },
    {
      "cell_type": "code",
      "source": [
        "def print_two(*args):\n",
        "  arg1, arg2 = args\n",
        "  print(f\"arg1: {arg1}, arg2: {arg2}\")\n",
        "\n",
        "def print_two_again(arg1, arg2):\n",
        "  print(f\"arg1: {arg1}, arg2: {arg2}\")\n",
        "\n",
        "def print_one(arg1):\n",
        "  print(f\"arg1: {arg1}\")\n",
        "\n",
        "def print_none():\n",
        "  print(\"I got nothin'.\")\n",
        "\n",
        "print_two(\"Zed\",\"Shaw\")\n",
        "print_two_again(\"Zed\",\"Shaw\")\n",
        "print_one(\"First !\")\n",
        "print_none()"
      ],
      "metadata": {
        "colab": {
          "base_uri": "https://localhost:8080/"
        },
        "id": "-6HIQE8TiHtO",
        "outputId": "13755efd-664e-458a-aa82-a23155b2b537"
      },
      "execution_count": null,
      "outputs": [
        {
          "output_type": "stream",
          "name": "stdout",
          "text": [
            "arg1: Zed, arg2: Shaw\n",
            "arg1: Zed, arg2: Shaw\n",
            "arg1: First !\n",
            "I got nothin'.\n"
          ]
        }
      ]
    },
    {
      "cell_type": "markdown",
      "source": [
        "### **Novidades neste exercício**\n",
        "\n",
        "\n",
        "\n",
        "1.   Uso da sintaxe, def... *args, permite aceitar número variável de argumentos, desempacotar tuplas e listas, e útil em funções genéricas ou reutilizáveis."
      ],
      "metadata": {
        "id": "Tnl2iPdRpQ76"
      }
    },
    {
      "cell_type": "code",
      "source": [
        "def lista_nomes(*args):\n",
        "  for nome in args:\n",
        "    print(f\"Nome: {nome}\")\n",
        "\n",
        "lista_nomes(\"Ricardo\",\"Paula\",\"Andrea\")"
      ],
      "metadata": {
        "colab": {
          "base_uri": "https://localhost:8080/"
        },
        "id": "hj4SYZXWq3rR",
        "outputId": "12f8e968-ee4b-443f-e34a-4d27efc7b41c"
      },
      "execution_count": null,
      "outputs": [
        {
          "output_type": "stream",
          "name": "stdout",
          "text": [
            "Nome: Ricardo\n",
            "Nome: Paula\n",
            "Nome: Andrea\n"
          ]
        }
      ]
    },
    {
      "cell_type": "code",
      "source": [
        "def mostra_dados(*args):\n",
        "  for dado in args:\n",
        "    print(dado)\n",
        "\n",
        "dados=(\"Idade\",30,\"Altura\",1.75)\n",
        "mostra_dados(*dados) # desempacota a tupla como multiplos argumentos"
      ],
      "metadata": {
        "colab": {
          "base_uri": "https://localhost:8080/"
        },
        "id": "_2kWjRdesDRZ",
        "outputId": "988950cb-5202-4bb4-c253-ce39e51ee2fc"
      },
      "execution_count": null,
      "outputs": [
        {
          "output_type": "stream",
          "name": "stdout",
          "text": [
            "Idade\n",
            "30\n",
            "Altura\n",
            "1.75\n"
          ]
        }
      ]
    },
    {
      "cell_type": "code",
      "source": [
        "def log(*mensagens):\n",
        "  print(\"[Log,]:\",\" |\".join(mensagens))\n",
        "\n",
        "log(\"Iniciando app\", \" Carregando banco de dados\", \"OK\")"
      ],
      "metadata": {
        "colab": {
          "base_uri": "https://localhost:8080/"
        },
        "id": "Retkp_bUvj3_",
        "outputId": "615454fe-1e22-4aba-d0e8-fe9fc9f21169"
      },
      "execution_count": null,
      "outputs": [
        {
          "output_type": "stream",
          "name": "stdout",
          "text": [
            "[Log,]: Iniciando app | Carregando banco de dados |OK\n"
          ]
        }
      ]
    },
    {
      "cell_type": "markdown",
      "source": [
        "## EXERCÍCIO 19 - Funções e Variáveis"
      ],
      "metadata": {
        "id": "oHYg8gu32V7b"
      }
    },
    {
      "cell_type": "code",
      "source": [
        "def cheese_and_crackers(cheese_count, boxes_of_crackers):\n",
        "  print(f\"You have {cheese_count} cheeses!\")\n",
        "  print(f\"You have {boxes_of_crackers} boxes of crackers!\")\n",
        "  print(\"Man that's enough for a party!\")\n",
        "  print(\"Get a blanket.\\ln\")\n",
        "\n",
        "\n",
        "print(\"We can just give the function numbers directly:\")\n",
        "cheese_and_crackers(20,30)\n",
        "\n",
        "\n",
        "print(\"Or, we can use variables from our script:\")\n",
        "amount_of_cheese = 10\n",
        "amount_of_crackers = 50\n",
        "\n",
        "cheese_and_crackers(amount_of_cheese, amount_of_crackers)\n",
        "\n",
        "\n",
        "print(\"We can even do math inside too:\")\n",
        "cheese_and_crackers(10 + 20, 5 + 6)\n",
        "\n",
        "\n",
        "print(\"And we can combine the two, variables and math:\")\n",
        "cheese_and_crackers(amount_of_cheese + 100, amount_of_cheese + 1000)\n",
        "\n"
      ],
      "metadata": {
        "colab": {
          "base_uri": "https://localhost:8080/"
        },
        "id": "D7zDs29g2hC_",
        "outputId": "16431e7c-4e89-475e-b092-d49eee7ac0bc"
      },
      "execution_count": null,
      "outputs": [
        {
          "output_type": "stream",
          "name": "stdout",
          "text": [
            "We can just give the function numbers directly:\n",
            "You have 20 cheeses!\n",
            "You have 30 boxes of crackers!\n",
            "Man that's enough for a party!\n",
            "Get a blanket.\\ln\n",
            "Or, we can use variables from our script:\n",
            "You have 10 cheeses!\n",
            "You have 50 boxes of crackers!\n",
            "Man that's enough for a party!\n",
            "Get a blanket.\\ln\n",
            "We can even do math inside too:\n",
            "You have 30 cheeses!\n",
            "You have 11 boxes of crackers!\n",
            "Man that's enough for a party!\n",
            "Get a blanket.\\ln\n",
            "And we can combine the two, variables and math:\n",
            "You have 110 cheeses!\n",
            "You have 1010 boxes of crackers!\n",
            "Man that's enough for a party!\n",
            "Get a blanket.\\ln\n"
          ]
        }
      ]
    },
    {
      "cell_type": "markdown",
      "source": [
        "### **Novidades neste exercício**\n",
        "\n",
        "\n",
        "\n",
        "1.   Uso da função: def com o nome da função e lista de parâmetros."
      ],
      "metadata": {
        "id": "0fL8fZTc_LmU"
      }
    },
    {
      "cell_type": "code",
      "source": [
        "def saudar():\n",
        "  print(\"\"\"\n",
        "  Bem vindo ao curso de Python!\n",
        "  Bons estudos!\n",
        "  \"\"\")\n",
        "\n",
        "saudar( )\n",
        "\n",
        "def lapis_borrachas(qtd_lapis,caixa_borrachas):\n",
        "  print(f\"Você tem {qtd_lapis} lápis!\")\n",
        "  print(f\"Você tem {caixa_borrachas} caixas de borrachas!\")\n",
        "  print(\"Estamos de acordo.\\ln\")\n",
        "\n",
        "print(\"Primeira possibilidade de inserção de dados:\")\n",
        "lapis_borrachas(20,30)\n",
        "\n",
        "print(\"Segunda possibilidade de inserção de dados:\")\n",
        "amostra_de_lapis = 10\n",
        "amostra_de_borrachas = 50\n",
        "\n",
        "lapis_borrachas(amostra_de_lapis, amostra_de_borrachas)\n",
        "\n",
        "print(\"Terceira possibilidade de inserção de dados:\")\n",
        "lapis_borrachas(54 + 15, 17 + 34)\n",
        "\n",
        "print(\"Quarta possibilidade de inserção de dados:\")\n",
        "lapis_borrachas(amostra_de_lapis + 100, amostra_de_borrachas + 100)"
      ],
      "metadata": {
        "colab": {
          "base_uri": "https://localhost:8080/"
        },
        "id": "0EYniwL5_z8l",
        "outputId": "5f0e2639-21b7-4319-a1c7-6df4200cebed"
      },
      "execution_count": null,
      "outputs": [
        {
          "output_type": "stream",
          "name": "stdout",
          "text": [
            "\n",
            "  Bem vindo ao curso de Python!\n",
            "  Bons estudos!\n",
            "  \n",
            "Primeira possibilidade de inserção de dados:\n",
            "Você tem 20 lápis!\n",
            "Você tem 30 caixas de borrachas!\n",
            "Estamos de acordo.\\ln\n",
            "Segunda possibilidade de inserção de dados:\n",
            "Você tem 10 lápis!\n",
            "Você tem 50 caixas de borrachas!\n",
            "Estamos de acordo.\\ln\n",
            "Terceira possibilidade de inserção de dados:\n",
            "Você tem 69 lápis!\n",
            "Você tem 51 caixas de borrachas!\n",
            "Estamos de acordo.\\ln\n",
            "Quarta possibilidade de inserção de dados:\n",
            "Você tem 110 lápis!\n",
            "Você tem 150 caixas de borrachas!\n",
            "Estamos de acordo.\\ln\n"
          ]
        }
      ]
    },
    {
      "cell_type": "markdown",
      "source": [
        "## EXERCÍCIO 20 - As Funções podem retornar algo"
      ],
      "metadata": {
        "id": "10hvUBb1qhT_"
      }
    },
    {
      "cell_type": "code",
      "source": [
        "def add(a,b):\n",
        "  print(f\"ADDING {a} + {b}\")\n",
        "  return a + b\n",
        "\n",
        "def subtract(a,b):\n",
        "  print(f\"SUBTRACTING {a} - {b}\")\n",
        "  return a - b\n",
        "\n",
        "def multiply(a,b):\n",
        "  print(f\"MULTIPLYING {a} * {b}\")\n",
        "  return a * b\n",
        "\n",
        "def divide(a,b):\n",
        "  print(f\"DIVIDING {a} / {b}\")\n",
        "  return a / b\n",
        "\n",
        "\n",
        "print(\"Let's do some math with just functions!\")\n",
        "\n",
        "age = add(30,5)\n",
        "height = subtract(78,4)\n",
        "weight = multiply(90,2)\n",
        "iq = divide(100,2)\n",
        "\n",
        "print(f\"Age: {age}, Heigt {height}, Weight: {weight}, IQ: {iq}\")\n",
        "\n",
        "# uma charada para ponto extra, digite isso.\n",
        "print(\"Here is a puzzle.\")\n",
        "what = add(age,subtract(height,multiply(weight,divide(iq,2))))\n",
        "print(\"that becomes: \", what, \"Can you do it by hand?\")"
      ],
      "metadata": {
        "colab": {
          "base_uri": "https://localhost:8080/"
        },
        "id": "L9EmUnVfqurw",
        "outputId": "8ec80746-3a61-4588-ef33-e75a5baf0f25"
      },
      "execution_count": null,
      "outputs": [
        {
          "output_type": "stream",
          "name": "stdout",
          "text": [
            "Let's do some math with just functions!\n",
            "ADDING 30 + 5\n",
            "SUBTRACTING 78 - 4\n",
            "MULTIPLYING 90 * 2\n",
            "DIVIDING 100 / 2\n",
            "Age: 35, Heigt 74, Weight: 180, IQ: 50.0\n",
            "Here is a puzzle.\n",
            "DIVIDING 50.0 / 2\n",
            "MULTIPLYING 180 * 25.0\n",
            "SUBTRACTING 74 - 4500.0\n",
            "ADDING 35 + -4426.0\n",
            "that becomes:  -4391.0 Can you do it by hand?\n"
          ]
        }
      ]
    },
    {
      "cell_type": "markdown",
      "source": [
        "### **Novidades neste exercício**\n",
        "\n",
        "\n",
        "\n",
        "1.   Uso da função: def recebendo parâmetros e retornando valores, nesse caso usando operadores matemáticos."
      ],
      "metadata": {
        "id": "h4SKAiyeydAX"
      }
    },
    {
      "cell_type": "code",
      "source": [
        "def add(a,b):\n",
        "  print(f\"CUSTO {a} + {b}\")\n",
        "  return a + b\n",
        "\n",
        "preço = add(30,5)\n",
        "\n",
        "print(f\"preço: {preço}\")"
      ],
      "metadata": {
        "colab": {
          "base_uri": "https://localhost:8080/"
        },
        "id": "Mkcf9gRl0dXK",
        "outputId": "770ff774-fb06-4e3b-a92c-0779504669fd"
      },
      "execution_count": null,
      "outputs": [
        {
          "output_type": "stream",
          "name": "stdout",
          "text": [
            "CUSTO 30 + 5\n",
            "preço: 35\n"
          ]
        }
      ]
    },
    {
      "cell_type": "markdown",
      "source": [
        "## EXERCÍCIO 21 - Parâmetros, Descompactação e Variáveis"
      ],
      "metadata": {
        "id": "6U75OARF2XQv"
      }
    },
    {
      "cell_type": "code",
      "source": [
        "from sys import argv\n",
        "#script,first,second,third =argv (linha que deu erro no código)\n",
        "#substitui pelo cógigo abaixo\n",
        "\n",
        "argv = [\"script\",\"first\",\"second\",\"third\"]\n",
        "script,first,second,third = argv\n",
        "\n",
        "print(\"The script is called:\", script)\n",
        "print(\"Your first variable is:\", first)\n",
        "print(\"Your second variable is:\", second)\n",
        "print(\"Your third variable is:\", third)"
      ],
      "metadata": {
        "colab": {
          "base_uri": "https://localhost:8080/"
        },
        "id": "tg6AXK3J2n1b",
        "outputId": "6e1a35f4-fbaf-4e94-c378-2ddb83dc4a97"
      },
      "execution_count": null,
      "outputs": [
        {
          "output_type": "stream",
          "name": "stdout",
          "text": [
            "The script is called: script\n",
            "Your first variable is: first\n",
            "Your second variable is: second\n",
            "Your third variable is: third\n"
          ]
        }
      ]
    },
    {
      "cell_type": "markdown",
      "source": [
        "### **Erros que cometi nesse exercício**\n",
        "\n",
        "Não observei a necessidade de haver 4 valores para serem desempacotados, nesse caso só havia 3 valores. Isso ocorreu porque o programa estava tentando desempacotar 4 valores da lista  argv (script, first, second, third), mas a lista argv contém apenas 3 valores. Isso deve ter ocorrido devido o uso do ambiente Jupiter pra realizar o programa, pois o mesmo apresenta iincompatibilidade de argumentos com o argv.\n",
        "\n",
        "Obs: foi eliminado o erro do código acima com a adptação para o ambiente JUPYTER.\n",
        "\n"
      ],
      "metadata": {
        "id": "j2jYUX7r6rcn"
      }
    },
    {
      "cell_type": "markdown",
      "source": [
        "### **Novidades neste exercício**\n",
        "\n",
        "\n",
        "\n",
        "1.   Uso de sys argv: ele é uma lista que contém os argumentos passados para o programa através de linhas de comando.É semelhante com o array e os valores são recuperados como matriz"
      ],
      "metadata": {
        "id": "_WkPNOc5FRJ8"
      }
    },
    {
      "cell_type": "code",
      "source": [
        "from sys import argv\n",
        "\n",
        "argv = [\"Deus\",\"Paz\",\"Amor\",\"Saúde\"]\n",
        "script,first,second,third = argv\n",
        "\n",
        "print(\"The script is called:\", script)\n",
        "print(\"Your first variable is:\", first)\n",
        "print(\"Your second variable is:\", second)\n",
        "print(\"Your third variable is:\", third)"
      ],
      "metadata": {
        "colab": {
          "base_uri": "https://localhost:8080/"
        },
        "id": "eoCQ2ccDIHxT",
        "outputId": "a9651afa-0ee8-4588-9e67-4b11f987f0ad"
      },
      "execution_count": null,
      "outputs": [
        {
          "output_type": "stream",
          "name": "stdout",
          "text": [
            "The script is called: Deus\n",
            "Your first variable is: Paz\n",
            "Your second variable is: Amor\n",
            "Your third variable is: Saúde\n"
          ]
        }
      ]
    },
    {
      "cell_type": "markdown",
      "source": [
        "## EXERCÍCIO 22 - Parâmetros, Descompactação e Variáveis"
      ],
      "metadata": {
        "id": "6qbt3ucn7gV0"
      }
    },
    {
      "cell_type": "code",
      "source": [
        "from sys import argv\n",
        "\n",
        "\n",
        "argv = [\"Exercício22.py\",input(\"Digite o seu nome: \")]\n",
        "script, user_name = argv\n",
        "\n",
        "prompt = '>'\n",
        "\n",
        "print(f\"Hi {user_name}, I'm the {script} script.\")\n",
        "print(f\"I'd like to ask you a few questions. \")\n",
        "print(f\"Do you like me {user_name}?\")\n",
        "likes = input(prompt)\n",
        "\n",
        "print(f\"Where do you live {user_name}?\")\n",
        "lives = input(prompt)\n",
        "\n",
        "print(f\"What kind of computer do you have ?\")\n",
        "computer = input(prompt)\n",
        "\n",
        "print(f\"\"\"\n",
        "      Airight, so you said {likes} about liking me.\n",
        "      You live in {lives}. Not sure where that is.\n",
        "      And you have a {computer} computer.Nice.\n",
        "\"\"\")"
      ],
      "metadata": {
        "colab": {
          "base_uri": "https://localhost:8080/"
        },
        "id": "An8Zc-4V7tT8",
        "outputId": "11cda1d0-fec5-4d61-b352-5ac561388726"
      },
      "execution_count": null,
      "outputs": [
        {
          "output_type": "stream",
          "name": "stdout",
          "text": [
            "Digite o seu nome: Ricardo\n",
            "Hi Ricardo, I'm the Exercício22.py script.\n",
            "I'd like to ask you a few questions. \n",
            "Do you like me Ricardo?\n",
            ">sim\n",
            "Where do you live Ricardo?\n",
            ">SBC\n",
            "What kind of computer do you have ?\n",
            ">Notebook\n",
            " \n",
            "      Airight, so you said sim about liking me.\n",
            "      You live in SBC. Not sure where that is.\n",
            "      And you have a Notebook computer.Nice.\n",
            "\n"
          ]
        }
      ]
    }
  ]
}