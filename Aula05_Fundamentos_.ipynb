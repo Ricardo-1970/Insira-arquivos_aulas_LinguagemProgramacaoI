{
  "nbformat": 4,
  "nbformat_minor": 0,
  "metadata": {
    "colab": {
      "provenance": [],
      "authorship_tag": "ABX9TyP6IMLYeLUhR3lUZhVWpIRs",
      "include_colab_link": true
    },
    "kernelspec": {
      "name": "python3",
      "display_name": "Python 3"
    },
    "language_info": {
      "name": "python"
    }
  },
  "cells": [
    {
      "cell_type": "markdown",
      "metadata": {
        "id": "view-in-github",
        "colab_type": "text"
      },
      "source": [
        "<a href=\"https://colab.research.google.com/github/Ricardo-1970/Insira-arquivos_aulas_LinguagemProgramacaoI/blob/main/Aula05_Fundamentos_.ipynb\" target=\"_parent\"><img src=\"https://colab.research.google.com/assets/colab-badge.svg\" alt=\"Open In Colab\"/></a>"
      ]
    },
    {
      "cell_type": "markdown",
      "source": [
        "# **Aula 05 - Fundamentos da Linguagem Python**\n",
        "\n",
        "*   Lendo e Gravando Arquivos\n",
        "*   Funções e Arquivos\n",
        "*   Desvios e Funções"
      ],
      "metadata": {
        "id": "pMmjeIGKgpDH"
      }
    },
    {
      "cell_type": "markdown",
      "source": [
        "## EXERCÍCIO 23 - Lendo Arquivos"
      ],
      "metadata": {
        "id": "uxzUv7V6h0pQ"
      }
    },
    {
      "cell_type": "code",
      "source": [
        "from sys import argv # inserir no terminal:\n",
        "                     # Python nomeArquivoCompleto 'endereçoArquivo'\n",
        "script, filename = argv\n",
        "txt = open(filename)# abre aquivo\n",
        "\n",
        "print(f\"Here is your file {filename}:\")\n",
        "print(txt.read())# Lê todo o coneúdo de um arwuivo\n",
        "\n",
        "print(\"Type the filename again:\")\n",
        "file_again =input(\"> \")# pede para o usuário digitar algo\n",
        "\n",
        "txt_again = open(file_again)\n",
        "\n",
        "print(txt_again.read())\n"
      ],
      "metadata": {
        "id": "9NrDFm8ah-3l"
      },
      "execution_count": null,
      "outputs": []
    },
    {
      "cell_type": "markdown",
      "source": [
        "### **Novidades neste exercício**\n",
        "\n",
        "\n",
        "\n",
        "1.   Uso da sintaxe, \"open()\", para acessar um arquivo em um determinado endereço, e o uso da sintaxe, \"read()\", para mostrar esse texto localizado."
      ],
      "metadata": {
        "id": "-sFcCg1r3Cyz"
      }
    },
    {
      "cell_type": "code",
      "source": [
        "txt = open(filename)\n",
        "\n",
        "print(f\"Here is your file {filename}:\")\n",
        "print(txt.read())"
      ],
      "metadata": {
        "id": "lE0BTEdm3yzn"
      },
      "execution_count": null,
      "outputs": []
    },
    {
      "cell_type": "markdown",
      "source": [
        "### **Erros que cometi nesse exercício**\n",
        "\n",
        "Não é possivel executar o código, no Python  com a atual sintaxe. Para executá-lo foi necessário o uso de um terminal , nesse caso no Vscode, onde foram digitados os argumentos necessários para a respectiva excução: Python nomeArquivo 'endereçoArquivo'.\n",
        "\n",
        "  "
      ],
      "metadata": {
        "id": "QsygSJK34rpM"
      }
    },
    {
      "cell_type": "markdown",
      "source": [
        "## EXERCÍCIO 24 - Lendo e Gravando Arquivos"
      ],
      "metadata": {
        "id": "4keMQ5Jw62O7"
      }
    },
    {
      "cell_type": "code",
      "source": [
        "from sys import argv # inserir no terminal:\n",
        "                     # Python nomeArquivoCompleto 'endereçoArquivo'\n",
        "script, filename = argv\n",
        "\n",
        "print(f\"We're going to erase{filename}.\")\n",
        "print(f\"If you don't want that, hit CTRL-C (^C).\")\n",
        "print(f\"If you do want that, hit RETURN.\")\n",
        "\n",
        "input(\"?\")\n",
        "\n",
        "print(\"Opening the file...\")\n",
        "target = open(filename, 'w')\n",
        "\n",
        "print(\"Truncating the file. Goodbye!\")\n",
        "target.truncate() # Ele corta o conteúdo do arquivo a partir da posição\n",
        "                  # do ponteiro\n",
        "print(\"Now I'm going to ask you for three lines.\")\n",
        "\n",
        "line1 = input(\"Line 1: \")\n",
        "line2 = input(\"Line 2: \")\n",
        "line3 = input(\"Line 3: \")\n",
        "\n",
        "print(\"I'm going to write these to the file.\")\n",
        "\n",
        "target.write(line1)\n",
        "target.write(\"\\n\")\n",
        "target.write(line2)\n",
        "target.write(\"\\n\")\n",
        "target.write(line3)\n",
        "target.write(\"\\n\")\n",
        "\n",
        "print(\"And finally, we close it.\")\n",
        "target.close # Fecha o arquivo que foi aberto com \"open()\""
      ],
      "metadata": {
        "id": "EY0GgUbl6-Ky"
      },
      "execution_count": null,
      "outputs": []
    },
    {
      "cell_type": "markdown",
      "source": [
        "### **Novidades neste exercício**\n",
        "\n",
        "\n",
        "\n",
        "1.   Uso da sintaxe, \"target.truncate()\", para apagar conteúdos de um arquivo , e o uso da sintaxe, \"target.write()\", para escrever conteúdos em linhas do arquivo."
      ],
      "metadata": {
        "id": "6d8gxt0ZDo7G"
      }
    },
    {
      "cell_type": "code",
      "source": [
        "print(\"Opening the file...\")\n",
        "target = open(filename, 'w')\n",
        "\n",
        "print(\"Truncating the file. Goodbye!\")\n",
        "target.truncate()# corta conteúdo de um texto a partir\n",
        "                 # de uma determinada posição.\n",
        "print(\"Now I'm going to ask you for three lines.\")\n",
        "\n",
        "line1 = input(\"Line 1: \")\n",
        "line2 = input(\"Line 2: \")\n",
        "line3 = input(\"Line 3: \")\n",
        "\n",
        "print(\"I'm going to write these to the file.\")\n",
        "#\"target.write\": escreve no texto a partir de uma determinada posição\n",
        "target.write(line1)\n",
        "target.write(\"\\n\")\n",
        "target.write(line2)\n",
        "target.write(\"\\n\")\n",
        "target.write(line3)\n",
        "target.write(\"\\n\")"
      ],
      "metadata": {
        "id": "d9PNW8yEE7b7"
      },
      "execution_count": null,
      "outputs": []
    },
    {
      "cell_type": "markdown",
      "source": [
        "### **Erros que cometi nesse exercício**\n",
        "\n",
        "Não é possivel executar o código, no Python  com a atual sintaxe. Para executá-lo foi necessário o uso de um terminal , nesse caso no Vscode, onde foram digitados os argumentos necessários para a respectiva execução: Python nomeArquivo 'endereçoArquivo'."
      ],
      "metadata": {
        "id": "9OjDGxi8FFWA"
      }
    },
    {
      "cell_type": "markdown",
      "source": [
        "## EXERCÍCIO 25 - Mais Arquivos"
      ],
      "metadata": {
        "id": "Qs-4bZZyFhXw"
      }
    },
    {
      "cell_type": "code",
      "source": [
        "from sys import argv\n",
        "from os.path import exists # importa a função exists, que verifica se um\n",
        "                           # arquivo ou diretório existe\n",
        "script, from_file, to_file = argv # pegar argumentos da linha de comando\n",
        "\n",
        "print(f\"Copying from {from_file} to {to_file}\")\n",
        "\n",
        "#poderíamos fazer esses dois com uma linha, como?\n",
        "in_file = open(from_file)\n",
        "indata = in_file.read()\n",
        "\n",
        "print(f\"The put file is{len(indata)} bytes long\")\n",
        "\n",
        "print(f\"Does the output file exist? {exists(to_file)}\")\n",
        "print(\"Ready , hit RETURN to continue, CTRL-C to abort.\")\n",
        "input()\n",
        "\n",
        "out_file = open(to_file, 'w')\n",
        "out_file.write(indata)\n",
        "\n",
        "print(\"Alright, all done.\")\n",
        "\n",
        "out_file.close()\n",
        "in_file.close()\n",
        "\n"
      ],
      "metadata": {
        "id": "BeN5Ev9sFq0H"
      },
      "execution_count": null,
      "outputs": []
    },
    {
      "cell_type": "markdown",
      "source": [
        "### **Novidades neste exercício**\n",
        "\n",
        "\n",
        "\n",
        "1.   Uso do comando, \" os. path.exists()\" é usado para verificar a existência de um arquivo."
      ],
      "metadata": {
        "id": "dDH1NMWjSR4J"
      }
    },
    {
      "cell_type": "markdown",
      "source": [
        "### **Erros que cometi nesse exercício**\n",
        "\n",
        "Não é possivel executar o código, no Python  com a atual sintaxe. Para executá-lo foi necessário o uso de um terminal , nesse caso no Vscode, onde foram digitados os argumentos necessários para a respectiva execução."
      ],
      "metadata": {
        "id": "4Kbozbet9y00"
      }
    },
    {
      "cell_type": "markdown",
      "source": [
        "## EXERCÍCIO 26 - Funções e Arquivos"
      ],
      "metadata": {
        "id": "UGOhL0q27-no"
      }
    },
    {
      "cell_type": "code",
      "source": [
        "from sys import argv\n",
        "\n",
        "script,input_file = argv\n",
        "\n",
        "def print_all(f): # recebe um parâmetro \"f\", que representa um objeto de arquivo\n",
        "    print(f.read())# Lê o conteúdo do arquivo de uma só vez como uma string\n",
        "\n",
        "def rewind(f):# volta o ponteiro do arquivo para o inicio\n",
        "    f.seek(0) # reposiciona o ponteiro no arquivo para a posição zero, ou inicio\n",
        "\n",
        "def print_a_line(line_count,f):# numero da linha atual\n",
        "    print(line_count, f.readline())# Lê a próxima linha do arquivo a partir da\n",
        "                                   #posição atualdo ponteiro\n",
        "current_file = open(input_file)\n",
        "\n",
        "print(\"First let's print the whole file:\\n\")\n",
        "\n",
        "print_all(current_file)\n",
        "\n",
        "print(\"Now let's rewind, kind of like a tape. \")\n",
        "\n",
        "rewind(current_file)\n",
        "\n",
        "print(\"Let's print three lines:\")\n",
        "\n",
        "current_line =1\n",
        "print_a_line(current_line, current_file)\n",
        "\n",
        "current_line = current_line + 1\n",
        "print_a_line(current_line, current_file)\n",
        "\n",
        "current_line = current_line + 1\n",
        "print_a_line(current_line, current_file)"
      ],
      "metadata": {
        "id": "5U_ZeHRT8t-5"
      },
      "execution_count": null,
      "outputs": []
    },
    {
      "cell_type": "markdown",
      "source": [
        "### **Novidades neste exercício**\n",
        "\n",
        "\n",
        "\n",
        "1.   Uso da função print e suas respectivas sintaxes, permitindo a escolha do conteúdo de um arquivo  a ser impresso.Uso da função \"rewind(f) e f.seek(0)\", que permitem voltar ao inicio do arquivo nesse respectivo caso."
      ],
      "metadata": {
        "id": "VjMar7vSXv-Z"
      }
    },
    {
      "cell_type": "code",
      "source": [
        "def print_all(f): # recebe um parâmetro \"f\", que representa um objeto de arquivo\n",
        "    print(f.read())# Lê o conteúdo do arquivo de uma só vez como uma string\n",
        "\n",
        "def rewind(f):# volta o ponteiro do arquivo para o inicio\n",
        "    f.seek(0) # reposiciona o ponteiro no arquivo para a posição zero, ou inicio\n",
        "\n",
        "def print_a_line(line_count,f):# numero da linha atual\n",
        "    print(line_count, f.readline())# Lê a próxima linha do arquivo a partir da\n",
        "                                   #posição atualdo ponteiro"
      ],
      "metadata": {
        "id": "ojYHaQhnZaNc"
      },
      "execution_count": null,
      "outputs": []
    },
    {
      "cell_type": "markdown",
      "source": [
        "### **Erros que cometi nesse exercício**\n",
        "\n",
        "Não é possivel executar o código, no Python  com a atual sintaxe. Para executá-lo foi necessário o uso de um terminal , nesse caso no Vscode, onde foram digitados os argumentos necessários para a respectiva execução."
      ],
      "metadata": {
        "id": "rPqJxneoZsGn"
      }
    },
    {
      "cell_type": "markdown",
      "source": [],
      "metadata": {
        "id": "I9z3yyVPaqDR"
      }
    },
    {
      "cell_type": "markdown",
      "source": [
        "## EXERCÍCIO 27 - Mais prática"
      ],
      "metadata": {
        "id": "AxQbChGbav0X"
      }
    },
    {
      "cell_type": "code",
      "source": [
        "print(\"Let's practice everything.\")\n",
        "print('you\\'d need to know \\'bout scapes with \\\\ that do:')\n",
        "print('\\n newlines and \\ tabs.')\n",
        "\n",
        "poem =\"\"\"\n",
        "\\tThe lovely world\n",
        "with logic so firmly planted\n",
        "cannot discern\\n the needs of love\n",
        "nor comprehend passion from intuition\n",
        "and requires an explanation\n",
        "\\n\\t\\twhere there is none.\n",
        "\"\"\"\n",
        "\n",
        "print(\"------------------------------\")\n",
        "print(poem)\n",
        "print(\"------------------------------\")\n",
        "\n",
        "five = 10 - 2 + 3 - 6\n",
        "print(f\"This should be five: {five}\")\n",
        "\n",
        "def secret_formula(started):# faz cálculo a partir de um valor inicial\n",
        "    jelly_beans = started * 500\n",
        "    jars = jelly_beans / 1000\n",
        "    crates = jars / 100\n",
        "    return jelly_beans, jars, crates\n",
        "\n",
        "start_point = 10000 # valor inicial\n",
        "beans, jars, crates = secret_formula(start_point)\n",
        "\n",
        "# Lembre - se que esta é uma outra maneira de formatar uma string\n",
        "print(\"Whith a starting point of: {}\".format(start_point))\n",
        "# É como usar uma string f\"\"\n",
        "print(f\"We'd have {beans} beans,{jars} jars, and {crates} crates.\")\n",
        "\n",
        "start_point = start_point / 10\n",
        "\n",
        "print(\"We can also do that this way:\")\n",
        "formula = secret_formula(start_point)\n",
        "# Essa é uma maneira fácil de aplicar uma lista a uma string de formatação\n",
        "print(\"We'd have {} beans, {} jars, and {} crates.\".format(*formula))"
      ],
      "metadata": {
        "colab": {
          "base_uri": "https://localhost:8080/"
        },
        "id": "KppePhJxa5ER",
        "outputId": "3e256456-7bb7-4d41-d5d6-e4923132bd5a"
      },
      "execution_count": null,
      "outputs": [
        {
          "output_type": "stream",
          "name": "stdout",
          "text": [
            "Let's practice everything.\n",
            "you'd need to know 'bout scapes with \\ that do:\n",
            "\n",
            " newlines and \\ tabs.\n",
            "------------------------------\n",
            " \n",
            "\tThe lovely world\n",
            "with logic so firmly planted\n",
            "cannot discern\n",
            " the needs of love\n",
            "nor comprehend passion from intuition\n",
            "and requires an explanation\n",
            "\n",
            "\t\twhere there is none.\n",
            "\n",
            "------------------------------\n",
            "This should be five: 5\n",
            "Whith a starting point of: 10000\n",
            "We'd have 5000000 beans,5000.0 jars, and 50.0 crates.\n",
            "We can also do that this way:\n",
            "We'd have 500000.0 beans, 500.0 jars, and 5.0 crates.\n"
          ]
        }
      ]
    },
    {
      "cell_type": "markdown",
      "source": [
        "### **Novidades neste exercício**\n",
        "\n",
        "\n",
        "\n",
        "1.   Uso da função \"def secret_formula(started)\" que realiza calculos a aprtir de um valor inicial pré-definido em uma variável."
      ],
      "metadata": {
        "id": "BYfnkwfvnMnn"
      }
    },
    {
      "cell_type": "code",
      "source": [
        "def secret_formula(started):# faz cálculo a partir de um valor inicial\n",
        "    jelly_beans = started * 500\n",
        "    jars = jelly_beans / 1000\n",
        "    crates = jars / 100\n",
        "    return jelly_beans, jars, crates\n",
        "\n",
        "start_point = 10000 # valor inicial\n",
        "beans, jars, crates = secret_formula(start_point)"
      ],
      "metadata": {
        "id": "IooDj_HVoF6G"
      },
      "execution_count": null,
      "outputs": []
    },
    {
      "cell_type": "markdown",
      "source": [
        "## EXERCÍCIO 28 - Desvios e Funções"
      ],
      "metadata": {
        "id": "EiLW4krroSBq"
      }
    },
    {
      "cell_type": "code",
      "source": [
        "from sys import exit # função que para o programa quando ela é chamada\n",
        "\n",
        "def sala_do_ouro():# a função é criada e com ela um conjunto de instruções\n",
        "                   # que pode ser executadas.\n",
        "    print(\"Esta sala está cheia de ouro.Quanto você pega ?\")\n",
        "    print(\"Digite um número.\")\n",
        "\n",
        "    escolha = input(\">\")\n",
        "    if \"0\" in escolha or \"1\" in escolha :#estrutura condicional de dados\n",
        "      quanto = int(escolha)\n",
        "    else:#estrutura condicional de dados\n",
        "      morrer(\"Cara, aprenda a digitar um número.\")\n",
        "\n",
        "    if quanto < 50:\n",
        "      print(\"Legal você não é ganancioso, você venceu !\")\n",
        "      exit(0)# as demais lihas de programa não serão executadas\n",
        "    else:#estrutura condicional de dados\n",
        "      morrer(\"Seu ganancioso !\")\n",
        "\n",
        "\n",
        "def sala_do_urso():\n",
        "    print(\"Há um urso aqui.\")\n",
        "    print(\"O urso tem um monte de mel\")\n",
        "    print(\"O urso gordo está na frente da outra porta.\")\n",
        "    print(\"O quê você faz ? \")\n",
        "    print(\"Opções: 'pegar mel, 'provocar o urso'.\")\n",
        "    urso_movido = False\n",
        "\n",
        "    while True: # estrutura de looping infinito\n",
        "        escolha = input(\">\")\n",
        "\n",
        "        if escolha == \"pegar mel\":#estrutura condicional de dados\n",
        "           morrer(\"O urso olha para você e arranca sua cara com uma patada.\")\n",
        "        elif escolha == \" provocar urso \" and not urso_movido:\n",
        "           print(\"O urso se moveu da porta\")\n",
        "           print(\"Você pode 'abrir porta' agora.\")\n",
        "           urso_movido = True\n",
        "        elif escolha ==\"provocar urso\" and urso_movido:\n",
        "           morrer(\"O urso fica puto e arranca a sua perna.\")\n",
        "        elif escolha == \"Abrir porta\" and urso_movido:\n",
        "           sala_do_ouro()\n",
        "        else:\n",
        "           print(\"Não entendi a sua escolha. Tente novamente.\")\n",
        "\n",
        "\n",
        "def sala_de_cthulhu():\n",
        "    print(\"aqui você vê ogrande mal, Cthulhu.\")\n",
        "    print(\"Ele, isso, se lá o quê for, olha para você e você enlouquece.\")\n",
        "    print(\"Oquê você faz ?\")\n",
        "    print(\"Opções: 'foge' 'cabeça'.\")\n",
        "\n",
        "    escolha = input('>')\n",
        "\n",
        "    if \"foge\" in escolha :#estrutura condicional de dados\n",
        "      comecar()\n",
        "    elif \"cabeça\" in escolha :#estrutura condicional de dados\n",
        "      morrer(\"Bem, isso foi gostoso!\")\n",
        "    else:#estrutura condicional de dados\n",
        "      sala_de_cthulhu()\n",
        "\n",
        "\n",
        "def morrer(porque):\n",
        "    print(porque, \"Bom trabalho !\")\n",
        "    return \"The game is over\"\n",
        "\n",
        "def comecar():\n",
        "    print(\"Você está em uma sala escura.\")\n",
        "    print(\"Há uma porta a sua direita e à sua esquerda.\")\n",
        "    print(\"qual você pega ?\")\n",
        "    print(\"Opções: 'esquerda', 'direita'.\")\n",
        "\n",
        "    escolha = input(\">\")\n",
        "\n",
        "    if escolha == \"esquerda\":\n",
        "      sala_do_urso()\n",
        "    elif escolha == \"direita\":\n",
        "      sala_de_cthulhu()\n",
        "    else :\n",
        "      morrer(\"você tropeça pela sala até morrer de fome.\")\n",
        "\n",
        "\n",
        "comecar()"
      ],
      "metadata": {
        "colab": {
          "base_uri": "https://localhost:8080/"
        },
        "id": "vI9NNFOXo3Km",
        "outputId": "f521c250-e8be-42e5-b30e-467518b54e66"
      },
      "execution_count": null,
      "outputs": [
        {
          "output_type": "stream",
          "name": "stdout",
          "text": [
            "Você está em uma sala escura.\n",
            "Há uma porta a sua direita e à sua esquerda.\n",
            "qual você pega ?\n",
            "Opções: 'esquerda', 'direita'.\n",
            ">direita\n",
            "aqui você vê ogrande mal, Cthulhu.\n",
            "Ele, isso, se lá o quê for, olha para você e você enlouquece.\n",
            "Oquê você faz ?\n",
            "Opções: 'foge' 'cabeça'.\n",
            ">foge\n",
            "Você está em uma sala escura.\n",
            "Há uma porta a sua direita e à sua esquerda.\n",
            "qual você pega ?\n",
            "Opções: 'esquerda', 'direita'.\n",
            ">direita\n",
            "aqui você vê ogrande mal, Cthulhu.\n",
            "Ele, isso, se lá o quê for, olha para você e você enlouquece.\n",
            "Oquê você faz ?\n",
            "Opções: 'foge' 'cabeça'.\n",
            ">cabeça\n",
            "Bem, isso foi gostoso! Bom trabalho !\n"
          ]
        }
      ]
    },
    {
      "cell_type": "markdown",
      "source": [
        "### **Novidades neste exercício**\n",
        "\n",
        "\n",
        "\n",
        "1.   Uso da função \"def\" com uma variavel, que armazena informações que são chamadas ao longo do código.Uso das estrutura de dados \"if' (condicional) e while (looping). Uso da função : \"from sys import exit\", que para o programa quando é chamada."
      ],
      "metadata": {
        "id": "0San_JYNmuxy"
      }
    },
    {
      "cell_type": "code",
      "source": [
        " def morrer(porque):\n",
        "    print(porque, \"Bom trabalho !\")\n",
        "    return \"The game is over\"\n",
        "\n",
        " while True: # estrutura de looping infinito\n",
        "        escolha = input(\">\")\n",
        "\n",
        " from sys import exit # função que para o programa quando ela é chamada\n"
      ],
      "metadata": {
        "id": "gg6t2rh3oZvw"
      },
      "execution_count": null,
      "outputs": []
    },
    {
      "cell_type": "markdown",
      "source": [
        "### **Erros que cometi nesse exercício**\n",
        "\n",
        "O programa não está funcionando corretamente porque a verificação com \"0\" in escolha ou \"1\" in escolha não garantem que a entrada seja um número inteiro válido. O uso de int () em entradas inválidas pode causar erro ou pular para outro trecho do código."
      ],
      "metadata": {
        "id": "Rvnz-6DIu9s1"
      }
    },
    {
      "cell_type": "code",
      "source": [
        "escolha = input(\">\")\n",
        "    if \"0\" in escolha or \"1\" in escolha :#não garante que a entrada seja\n",
        "      quanto = int(escolha)               #um número inteiro válido"
      ],
      "metadata": {
        "id": "7xYvCSnqwOT5"
      },
      "execution_count": null,
      "outputs": []
    }
  ]
}