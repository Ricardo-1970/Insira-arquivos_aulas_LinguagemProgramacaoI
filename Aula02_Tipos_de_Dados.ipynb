{
  "nbformat": 4,
  "nbformat_minor": 0,
  "metadata": {
    "colab": {
      "provenance": [],
      "authorship_tag": "ABX9TyOxqb6UVaWDzHBRneGbfh/f",
      "include_colab_link": true
    },
    "kernelspec": {
      "name": "python3",
      "display_name": "Python 3"
    },
    "language_info": {
      "name": "python"
    }
  },
  "cells": [
    {
      "cell_type": "markdown",
      "metadata": {
        "id": "view-in-github",
        "colab_type": "text"
      },
      "source": [
        "<a href=\"https://colab.research.google.com/github/Ricardo-1970/Insira-arquivos_aulas_LinguagemProgramacaoI/blob/main/Aula02_Tipos_de_Dados.ipynb\" target=\"_parent\"><img src=\"https://colab.research.google.com/assets/colab-badge.svg\" alt=\"Open In Colab\"/></a>"
      ]
    },
    {
      "cell_type": "code",
      "execution_count": null,
      "metadata": {
        "id": "1NQzptd5AOD6"
      },
      "outputs": [],
      "source": []
    },
    {
      "cell_type": "markdown",
      "source": [
        "# **Fundamentos da Linguagem Python**\n",
        "\n",
        "\n",
        "   \n",
        "\n",
        "*   Saber um pouco mais sobre a linguagem Python e como configurá - la no seu computador.\n",
        "*   Entender o quê são expressões aritiméticas, expressões lógicas e operadores.\n",
        "*   Compreender o quê são variáveis e como usá - las.\n",
        "*   Saber o quê são strings e como usá - las."
      ],
      "metadata": {
        "id": "2OobBv73BNzB"
      }
    },
    {
      "cell_type": "markdown",
      "source": [
        "## EXERCÍCIO 5 - Mais Variáveis e Impressão\n",
        "\n",
        "Concatenação de variáveis mais texto, uma forma de usar a saída de dados com variáveis."
      ],
      "metadata": {
        "id": "IH44p4RmE4M9"
      }
    },
    {
      "cell_type": "code",
      "source": [
        "Name = 'Zed A. Shaw'\n",
        "Age = 35 #não é mentira\n",
        "Height = 74 # polegadas\n",
        "Weight = 180 # libras\n",
        "Eyes = 'Blue'\n",
        "Teeth = 'white'\n",
        "Hair = 'Brown'\n",
        "\n",
        "print(f\"Let's talk about {Name}.\")\n",
        "print(f\"He's {Height} inches tall.\")\n",
        "print(f\"He's {Weight} pounds heavy.\")\n",
        "print(\"Actually that's not too heavy.\")\n",
        "print(f\"He's got {Eyes} eyes and {Hair} hair.\")\n",
        "print(f\"His teeth are usually {Teeth} depending on the cofee.\")\n",
        "\n",
        "#essa linha é capiciosa tente escrever exatamente como está\n",
        "total = Age + Height + Weigth\n",
        "print(f\"If I add {Age}, {Height} and my {Weight} I get {total}.\")"
      ],
      "metadata": {
        "id": "LLEk6j_qGJGd"
      },
      "execution_count": null,
      "outputs": []
    },
    {
      "cell_type": "markdown",
      "source": [
        "### **Novidade neste exercício**\n",
        "\n",
        "\n",
        "\n",
        "Uso do comando print com formação para saída de texto : concatenando uma variável tipo string com um valor de uma outra variável. Observa - se que essa outra variável é alocada entre chaves { }."
      ],
      "metadata": {
        "id": "nC3VwvetSItf"
      }
    },
    {
      "cell_type": "code",
      "source": [
        "print(f\"texto a ser impresso na tela {variavel}.\")"
      ],
      "metadata": {
        "id": "1GZX1bUIUlCz"
      },
      "execution_count": null,
      "outputs": []
    },
    {
      "cell_type": "markdown",
      "source": [],
      "metadata": {
        "id": "XemnrBo5nra5"
      }
    },
    {
      "cell_type": "markdown",
      "source": [
        "### **Erros que cometi nesse exercício**\n",
        "\n",
        "Errei ao digitar o nome da variável. Uma variável não pode ser iniciada com letra maiúscula."
      ],
      "metadata": {
        "id": "sv2qjq4ObgSO"
      }
    },
    {
      "cell_type": "markdown",
      "source": [],
      "metadata": {
        "id": "plCjfaE1n0AO"
      }
    },
    {
      "cell_type": "markdown",
      "source": [
        "\n",
        "\n"
      ],
      "metadata": {
        "id": "AaTSfmvKWCdx"
      }
    },
    {
      "cell_type": "markdown",
      "source": [
        "## EXERCÍCIO 6 - Strings e Texto\n",
        "\n",
        "Algumas variáveis, um pouco, complexas e um pouco de trabalho com Strings."
      ],
      "metadata": {
        "id": "3MVmPu5K-SWM"
      }
    },
    {
      "cell_type": "code",
      "source": [
        "#atribuição de inteiro em variável\n",
        "type_of_people = 10\n",
        "#atibuição de string com variável embutida\n",
        "x = f\"there are {type_of_people} type of people.\"\n",
        "#atribuição de valor textual a uma variável\n",
        "binary = \"binary\"\n",
        "#atribuição de valor textual a uma variável\n",
        "do_not = \"don't\"\n",
        "#atibuição de string com variável embutida\n",
        "y = f\"Those who know {binary} and those who {do_not}.\"\n",
        "\n",
        "print(x) #imprimi o valor da variável\n",
        "print(y) #imprimi o valor da variável\n",
        "\n",
        "print(f\"I said: {x}\") #imprimi um texto com uma variável embutida\n",
        "print(f\"I also said: {y}\") #imprimi um texto com uma variável embutida\n",
        "\n",
        "hilarious = False #criação de variavel com valor booleano\n",
        "joke_evaluation = \"Isn't that joke so funny?! {}\"#criação de variável com texto e espaço para embutir uma varável sem definí - la\n",
        "\n",
        "print(joke_evaluation.format(hilarious))#uma forma de imprimir a variável textual com uma variável embutida, que eu posso escolher\n",
        "\n",
        "w = \" This is left side of..\" #criação de variável com valor textual\n",
        "e = \" a string with a right side. \" #criação de variável com valor textual\n",
        "\n",
        "print(w+e) #concatena os valores textuais armazenados nas variáveis"
      ],
      "metadata": {
        "colab": {
          "base_uri": "https://localhost:8080/"
        },
        "id": "Te5zcTAX-6GA",
        "outputId": "374fd7d2-64f8-4f03-a063-c4eaa0c25bb8"
      },
      "execution_count": null,
      "outputs": [
        {
          "output_type": "stream",
          "name": "stdout",
          "text": [
            "there are 10 type of people.\n",
            "Those who know binary and those who don't.\n",
            "I said: there are 10 type of people.\n",
            "I also said: Those who know binary and those who don't.\n",
            "Isn't that joke so funny?! False\n",
            " This is left side of.. a string with a right side. \n"
          ]
        }
      ]
    },
    {
      "cell_type": "markdown",
      "source": [
        "## EXERCÍCIO 7 - Mais Impressão\n",
        "\n",
        "Apens para praticar a digitação e alguns conceitos sobre impressão de strings."
      ],
      "metadata": {
        "id": "2ERA1Y4uqzwn"
      }
    },
    {
      "cell_type": "code",
      "source": [
        "print(\"Mary had a little lamb.\") #imprime um texto fixo\n",
        "print(\"Its fleece was white as {}.\".format('snow')) #imprime um texto com espaço para mudar algo\n",
        "print(\"And everywhere that mary went\") #imprime um texto fixo\n",
        "print(\".\" * 10) #what'd that do? Imprime o ponto 10 vezes\n",
        "\n",
        "end1 = \"C\" #armazena dados textuais em variáveis\n",
        "end2 = \"h\"\n",
        "end3 = \"e\"\n",
        "end4 = \"e\"\n",
        "end5 = \"s\"\n",
        "end6 = \"e\"\n",
        "end7 = \"B\"\n",
        "end8 = \"u\"\n",
        "end9 = \"r\"\n",
        "end10 = \"g\"\n",
        "end11 = \"e\"\n",
        "end12 = \"r\"\n",
        "#olhe aquela vírgula no fim. Tente removê - la para ver o quê acontece.\n",
        "print(end1 + end2 + end3 + end4 + end5 + end6, end ='') #concatena os valores das variáveis e o final permite  juntar esse conteúdo com o subsequente.\n",
        "print(end7 + end8 + end9 + end10 + end11 + end12) # imprime sem quebra de linha"
      ],
      "metadata": {
        "colab": {
          "base_uri": "https://localhost:8080/"
        },
        "id": "F9kZdriirmAK",
        "outputId": "6f7c244c-24a8-4675-8064-3ca3c794de73"
      },
      "execution_count": null,
      "outputs": [
        {
          "output_type": "stream",
          "name": "stdout",
          "text": [
            "Mary had a little lamb.\n",
            "Its fleece was white as snow.\n",
            "And everywhere that mary went\n",
            "..........\n",
            "CheeseBurger\n"
          ]
        }
      ]
    },
    {
      "cell_type": "markdown",
      "source": [
        "## EXERCÍCIO 8 - Imprimindo, Imprimindo\n",
        "\n",
        "Formatação de strings de forma mais complexa"
      ],
      "metadata": {
        "id": "UGb0Qn4O0Xkb"
      }
    },
    {
      "cell_type": "code",
      "source": [
        "formatter = \"{} {} {} {} \"\n",
        "\n",
        "print(formatter.format(1,2,3,4))\n",
        "print(formatter.format(\"one\",\"two\",\"three\",\"four\"))\n",
        "print(formatter.format(True,False,False,True))\n",
        "print(formatter.format(formatter,formatter,formatter,formatter))\n",
        "print(formatter.format(\n",
        "         \"Try you\",\n",
        "         \"Own text here\",\n",
        "         \"Maybe a poem\",\n",
        "         \"Or a song about fear\"\n",
        "))"
      ],
      "metadata": {
        "colab": {
          "base_uri": "https://localhost:8080/"
        },
        "id": "7GIiVXdK02Er",
        "outputId": "e87bcc39-114c-4c37-cc24-32674751a497"
      },
      "execution_count": null,
      "outputs": [
        {
          "output_type": "stream",
          "name": "stdout",
          "text": [
            "1 2 3 4 \n",
            "one two three four \n",
            "True False False True \n",
            "{} {} {} {}  {} {} {} {}  {} {} {} {}  {} {} {} {}  \n",
            "Try you Own text here Maybe a poem Or a song about fear \n"
          ]
        }
      ]
    },
    {
      "cell_type": "code",
      "source": [],
      "metadata": {
        "id": "UZvxiENzsj0H"
      },
      "execution_count": null,
      "outputs": []
    },
    {
      "cell_type": "markdown",
      "source": [
        "### **Novidade neste exercício**\n",
        "\n",
        "O uso do método formatter.format(), além de imprimir uma concatenação de textos contidos em linhas subsequentes, insere valores em strings usando marcadores de posição. Esses marcadores de posição são representados por chaves{} ."
      ],
      "metadata": {
        "id": "bGDAuGao4vZ6"
      }
    },
    {
      "cell_type": "code",
      "source": [
        "print(formatter.format(\"Meu\",\n",
        "                       \"nome\",\n",
        "                       \"é {}\".format(\"Ricardo\"),\n",
        "                       \"e tenho 54 anos.\"))"
      ],
      "metadata": {
        "colab": {
          "base_uri": "https://localhost:8080/"
        },
        "id": "A94lLB026tTt",
        "outputId": "6e4400a1-1188-45b8-9746-cc527c4fbea1"
      },
      "execution_count": null,
      "outputs": [
        {
          "output_type": "stream",
          "name": "stdout",
          "text": [
            "Meu nome é Ricardo e tenho 54 anos. \n"
          ]
        }
      ]
    },
    {
      "cell_type": "markdown",
      "source": [],
      "metadata": {
        "id": "Z4ByRvkMAm8z"
      }
    }
  ]
}