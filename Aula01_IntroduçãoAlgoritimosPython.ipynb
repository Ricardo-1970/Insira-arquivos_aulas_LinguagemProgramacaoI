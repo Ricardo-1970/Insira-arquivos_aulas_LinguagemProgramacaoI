{
  "nbformat": 4,
  "nbformat_minor": 0,
  "metadata": {
    "colab": {
      "provenance": [],
      "authorship_tag": "ABX9TyPZ3KaO/82oeZ1SIKLxw1Pu",
      "include_colab_link": true
    },
    "kernelspec": {
      "name": "python3",
      "display_name": "Python 3"
    },
    "language_info": {
      "name": "python"
    }
  },
  "cells": [
    {
      "cell_type": "markdown",
      "metadata": {
        "id": "view-in-github",
        "colab_type": "text"
      },
      "source": [
        "<a href=\"https://colab.research.google.com/github/Ricardo-1970/Insira-arquivos_aulas_LinguagemProgramacaoI/blob/main/Aula01_Introdu%C3%A7%C3%A3oAlgoritimosPython.ipynb\" target=\"_parent\"><img src=\"https://colab.research.google.com/assets/colab-badge.svg\" alt=\"Open In Colab\"/></a>"
      ]
    },
    {
      "cell_type": "code",
      "execution_count": null,
      "metadata": {
        "id": "fh7q4utrl1g9"
      },
      "outputs": [],
      "source": []
    },
    {
      "cell_type": "markdown",
      "source": [
        "#  **Primeiros passos de Python**\n",
        "\n",
        "Vamos realizar os primeiros códigos com alinguagem Python para observar o funcionamneto das etapas:\n",
        "\n",
        "1. Entrada\n",
        "2. Processamento\n",
        "3. Saída\n",
        "4. Comentários\n"
      ],
      "metadata": {
        "id": "2ONGOJCDmnpO"
      }
    },
    {
      "cell_type": "markdown",
      "source": [
        "## EXERCÍCIO 1 - Um Bom Programa inicial\n",
        "O primeiro passo para se usar linhas de código em alguma linguagem (saída de dados)."
      ],
      "metadata": {
        "id": "EN9NxQDEn7yt"
      }
    },
    {
      "cell_type": "code",
      "source": [
        "print(\"Hello World!\")\n",
        "print(\"Hello Again.\")\n",
        "\n",
        "print(\"I like Typing this\")\n",
        "print(\"Yay! Printing.\")\n",
        "\n",
        "print(\"I'd much rather you not. \")\n",
        "print(\"I said do not touch this\")\n",
        "\n"
      ],
      "metadata": {
        "colab": {
          "base_uri": "https://localhost:8080/"
        },
        "id": "Wf4jBWNJpFxm",
        "outputId": "226b9665-0d89-4d26-88c7-989489aa01d6"
      },
      "execution_count": null,
      "outputs": [
        {
          "output_type": "stream",
          "name": "stdout",
          "text": [
            "Hello World!\n",
            "Hello Again.\n",
            "I like Typing this\n",
            "Yay! Printing.\n",
            "I'd much rather you not. \n",
            "I said do not touch this\n"
          ]
        }
      ]
    },
    {
      "cell_type": "markdown",
      "source": [
        "## EXERCÍCIO 2 - Comentários e Cerquilhas\n",
        "\n",
        "Compreender o uso de comentários para as minhas linhas de códigos;"
      ],
      "metadata": {
        "id": "JJYnirXaszzx"
      }
    },
    {
      "cell_type": "code",
      "source": [
        "#Um comentário, assim você pode ler o seu programa mais tarde.\n",
        "#Qualquer coisa depois de # é ignorada pelo Python.\n",
        "\n",
        "print(\"I could have a code like this.\")\n",
        "\n",
        "#Você também pode utilizar um código para desabilitar um comentário.\n",
        "#print(\"This won't run.\")\n",
        "\n",
        "print('This will run.')\n"
      ],
      "metadata": {
        "colab": {
          "base_uri": "https://localhost:8080/"
        },
        "id": "X1CXKNz-uzEz",
        "outputId": "1f45c0ed-cb16-4faa-f660-f2d3a7aa7690"
      },
      "execution_count": null,
      "outputs": [
        {
          "output_type": "stream",
          "name": "stdout",
          "text": [
            "I could have a code like this.\n",
            "This will run.\n"
          ]
        }
      ]
    },
    {
      "cell_type": "markdown",
      "source": [
        "## EXERCÍCIO 3 - Números e Matemática\n",
        "\n",
        "Primeiras operações matemáticas, dentro da instrução de saída de dados."
      ],
      "metadata": {
        "id": "FQRIJZA3xVqh"
      }
    },
    {
      "cell_type": "code",
      "source": [
        "#Inicia com um texto sobre o que será feito no resto do programa.\n",
        "print(\"I will now count my chickens:\")\n",
        "#Irá concatenar o texto entre aspas com o resultado das operações após as vírgulas.\n",
        "print(\"Hens\", 25 + 30 / 6)\n",
        "print(\"Roosters\", 100 - 25 * 3 % 4)\n",
        "#Inicia com um texto sobre o que será feito no resto do programa.\n",
        "print(\"I will count the eggs:\")\n",
        "#Irá realizar uma operação matemática.\n",
        "print(3 + 2 + 1 - 5 + 4 % 2 - 1 / 4 + 6)\n",
        "#Inicia com um texto sobre o que será feito no resto do programa.\n",
        "print(\"Is it true that 3 + 2 < 5-7 ?\")\n",
        "#Realizar uma operação relacionado em que o resultado é booleano.\n",
        "print(3 + 2 < 5 - 7)\n",
        "#Inicia com um texto sobre o que será feito no resto do programa.\n",
        "print(\"What is 3 + 2 ?\", 3 + 2)\n",
        "print(\"What is 5 - 7 ?\", 5 - 7)\n",
        "#Inicia com um texto sobre o que será feito no resto do programa.\n",
        "print(\"Oh, that's why it's False.\")\n",
        "#Inicia com um texto sobre o que será feito no resto do programa.\n",
        "print(\"How about some more ?\")\n",
        "#Texto com operações relacionais.\n",
        "print(\"Is it greater ?\", 5 > - 2)\n",
        "print(\"Is it greater or equal ?\", 5 >= - 2)\n",
        "print(\"Is it less or equal ?\", 5 <= - 2)"
      ],
      "metadata": {
        "colab": {
          "base_uri": "https://localhost:8080/"
        },
        "id": "EAE1jIuczBQQ",
        "outputId": "33a15a5a-5467-4354-ff79-6460705ea1dd"
      },
      "execution_count": null,
      "outputs": [
        {
          "output_type": "stream",
          "name": "stdout",
          "text": [
            "I will now count my chickens:\n",
            "Hens 30.0\n",
            "Roosters 97\n",
            "I will count the eggs:\n",
            "6.75\n",
            "Is it true that 3 + 2 < 5-7 ?\n",
            "False\n",
            "What is 3 + 2 ? 5\n",
            "What is 5 - 7 ? -2\n",
            "Oh, that's why it's False.\n",
            "How about some more ?\n",
            "Is it greater ? True\n",
            "Is it greater or equal ? True\n",
            "Is it less or equal ? False\n"
          ]
        }
      ]
    },
    {
      "cell_type": "markdown",
      "source": [
        "## EXERCÍCIO 4 - Variáveis e Nomes\n",
        "\n",
        "Como declarar variáveis e seus rótulos."
      ],
      "metadata": {
        "id": "Uiuh-0Ws-UIq"
      }
    },
    {
      "cell_type": "code",
      "source": [
        "cars = 100 #Atrbuindo um número inteiro.\n",
        "spaceInAcar = 4.0 #Atribuindo um número real.\n",
        "drivers = 30 #Atrbuindo um número inteiro.\n",
        "passengers = 90 #Atrbuindo um número inteiro.\n",
        "carsNotDriven = cars - drivers #Operação aritimética entre inteiro e inteiro.\n",
        "carsDriven = drivers #Atribuição de valor entre variáveis sem operação.\n",
        "carpoolCapacity = carsDriven * spaceInAcar #Atribuindo o resultado de uma operação aritimética entre inteiro e real.\n",
        "averagePassengersPerCar = passengers / carsDriven #Atribuindo o resultado de uma operação aritimética entre inteiro e inteiro.\n",
        "\n",
        "print(\"There are \",cars,\"cars available.\")\n",
        "print(\"There are only\",drivers,\"drivers available.\")\n",
        "print(\"There will be \",carsNotDriven,\"empty cars today.\")\n",
        "print(\"We can transport \",carpoolCapacity,\"people today.\")\n",
        "print(\"We have \",passengers,\"to carpool today.\")\n",
        "print(\"We need to put about \",averagePassengersPerCar,\"in each car.\")\n",
        "print(10/5)"
      ],
      "metadata": {
        "colab": {
          "base_uri": "https://localhost:8080/"
        },
        "id": "7SdlfJ6S-6nE",
        "outputId": "1b9918d1-d9dd-45c0-f1cd-a6c6abcb0329"
      },
      "execution_count": null,
      "outputs": [
        {
          "output_type": "stream",
          "name": "stdout",
          "text": [
            "There are  100 cars available.\n",
            "There are only 30 drivers available.\n",
            "There will be  70 empty cars today.\n",
            "We can transport  120.0 people today.\n",
            "We have  90 to carpool today.\n",
            "We need to put about  3.0 in each car.\n",
            "2.0\n"
          ]
        }
      ]
    }
  ]
}