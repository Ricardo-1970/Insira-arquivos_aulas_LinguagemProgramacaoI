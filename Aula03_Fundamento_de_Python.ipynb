{
  "nbformat": 4,
  "nbformat_minor": 0,
  "metadata": {
    "colab": {
      "provenance": [],
      "authorship_tag": "ABX9TyNZD8wFpM327AeZLX7MzhYX",
      "include_colab_link": true
    },
    "kernelspec": {
      "name": "python3",
      "display_name": "Python 3"
    },
    "language_info": {
      "name": "python"
    }
  },
  "cells": [
    {
      "cell_type": "markdown",
      "metadata": {
        "id": "view-in-github",
        "colab_type": "text"
      },
      "source": [
        "<a href=\"https://colab.research.google.com/github/Ricardo-1970/Insira-arquivos_aulas_LinguagemProgramacaoI/blob/main/Aula03_Fundamento_de_Python.ipynb\" target=\"_parent\"><img src=\"https://colab.research.google.com/assets/colab-badge.svg\" alt=\"Open In Colab\"/></a>"
      ]
    },
    {
      "cell_type": "markdown",
      "source": [
        "# **Aula 03 - Fundamentos da Linguagem Python**\n",
        "\n",
        "\n",
        "\n",
        "*   Impressões de informações\n",
        "*   Entradas de dados\n",
        "*   Desvio condicional\n",
        "\n"
      ],
      "metadata": {
        "id": "e-Fa_M-FqKDQ"
      }
    },
    {
      "cell_type": "markdown",
      "source": [
        "## EXERCÍCIO 9 - Imprimindo, Imprimindo, Imprimindo"
      ],
      "metadata": {
        "id": "21kDFco5rVOF"
      }
    },
    {
      "cell_type": "code",
      "source": [
        "days = \"Mon Tue Wed Thu Fri Sat Sun\"\n",
        "months = \"Jan\\nFeb\\nMarc\\nApr\\nMay\\nJun\\nJul\\nAug\\nSep\\nOct\\nNov\\nDec\"\n",
        "\n",
        "print(\"here are the day: \",days)\n",
        "print(\"Here are the months: \",months)\n",
        "\n",
        "print(\"\"\"\n",
        "There's somenthing going on here.\n",
        "With the three double-quotes.\n",
        "We'll be able to type as much as we like.\n",
        "Even 4 lines if we want, or 5, or 6.\n",
        "\"\"\")"
      ],
      "metadata": {
        "colab": {
          "base_uri": "https://localhost:8080/"
        },
        "id": "6BwCcDeasrRd",
        "outputId": "e3ae1460-9870-4063-8452-4361d4505864"
      },
      "execution_count": null,
      "outputs": [
        {
          "output_type": "stream",
          "name": "stdout",
          "text": [
            "here are the day:  Mon Tue Wed Thu Fri Sat Sun\n",
            "Here are the months:  Jan\n",
            "Feb\n",
            "Marc\n",
            "Apr\n",
            "May\n",
            "Jun\n",
            "Jul\n",
            "Aug\n",
            "Sep\n",
            "Oct\n",
            "Nov\n",
            "Dec\n",
            " \n",
            "There's somenthing going on here.\n",
            "With the three double-quotes.\n",
            "We'll be able to type as much as we like.\n",
            "Even 4 lines if we want, or 5, or 6.\n",
            "\n"
          ]
        }
      ]
    },
    {
      "cell_type": "markdown",
      "source": [
        "### **Novidades neste exercício**\n",
        "\n",
        "\n",
        "\n",
        "1.   Pular linhas dentro de uma variável.\n",
        "     \n",
        "     Uso do caractere \"\\n\" dentro da variável para pular linha.\n",
        "\n",
        "\n"
      ],
      "metadata": {
        "id": "6vXvtlpkwN78"
      }
    },
    {
      "cell_type": "code",
      "source": [
        "Frutas = \"Maça\\nUva\\nLimão\\nBanana\""
      ],
      "metadata": {
        "id": "cvi-AKghxiYN"
      },
      "execution_count": null,
      "outputs": []
    },
    {
      "cell_type": "markdown",
      "source": [
        "2.   Impressão de várias linhas.\n",
        "\n",
        "     Uso de (\"\"\" \"\"\") dentro da varável para possibiltar a impressão de até 6 linhas subsequentes."
      ],
      "metadata": {
        "id": "hqG4L57myVDE"
      }
    },
    {
      "cell_type": "code",
      "source": [
        "print(\"\"\"\n",
        "From the coast of gold,\n",
        "across the seven seas, travellin' on,\n",
        "far an wide. But now it seems i'm a stranger to myself...\n",
        "---------------Music and lyric by IRON MAIDEN \"\"\")"
      ],
      "metadata": {
        "colab": {
          "base_uri": "https://localhost:8080/"
        },
        "id": "Sq0shJppy9w1",
        "outputId": "df947c4e-973c-449d-8076-825215465de0"
      },
      "execution_count": null,
      "outputs": [
        {
          "output_type": "stream",
          "name": "stdout",
          "text": [
            "\n",
            "From the coast of gold,\n",
            "across the seven seas, travellin' on,\n",
            "far an wide. But now it seems i'm a stranger to myself...\n",
            "---------------Music and lyric by IRON MAIDEN \n"
          ]
        }
      ]
    },
    {
      "cell_type": "markdown",
      "source": [
        "## EXERCÍCIO 10 - O quê foi isso ?"
      ],
      "metadata": {
        "id": "xW7iZLsU3LOl"
      }
    },
    {
      "cell_type": "code",
      "source": [
        "tabby_cat = \" \\t I'm tabbed in.\"\n",
        "persian_cat = \"I'm split \\non a line.\"\n",
        "backlash_cat = \"I'm \\\\ a \\\\ cat. \"\n",
        "\n",
        "fat_cat = \"\"\"\n",
        "I'll do a list:\n",
        "\\t* cat food \\t* fishies\n",
        "\\t* Catnip\\n\\t* Grass\n",
        "\"\"\"\n",
        "\n",
        "print(tabby_cat)\n",
        "print(persian_cat)\n",
        "print(backlash_cat)\n",
        "print(fat_cat)"
      ],
      "metadata": {
        "colab": {
          "base_uri": "https://localhost:8080/"
        },
        "id": "3t7ynq1JJq-A",
        "outputId": "7af213aa-15ae-424b-afd2-df0739009699"
      },
      "execution_count": null,
      "outputs": [
        {
          "output_type": "stream",
          "name": "stdout",
          "text": [
            " \t I'm tabbed in.\n",
            "I'm split \n",
            "on a line.\n",
            "I'm \\ a \\ cat. \n",
            "\n",
            "I'll do a list:\n",
            "\t* cat food \t* fishies\n",
            "\t* Catnip\n",
            "\t* Grass\n",
            "\n"
          ]
        }
      ]
    },
    {
      "cell_type": "markdown",
      "source": [
        "### **Novidades neste exercício**\n",
        "\n",
        "1.   Uso de espaço de tabulação em um conteúdo de variável, de modo a movimenta- lo para uma outra posição numa mesma linha.\n",
        "\n",
        "     Uso do caractere \" \\t \" antes dos caracteres a serem movimentados."
      ],
      "metadata": {
        "id": "coIWgDm_8Odo"
      }
    },
    {
      "cell_type": "code",
      "source": [
        "casa = \"\\t Amarela\"\n",
        "predio = \"alto\"\n",
        "\n",
        "print(casa)\n",
        "print(predio)\n"
      ],
      "metadata": {
        "colab": {
          "base_uri": "https://localhost:8080/"
        },
        "id": "g5kOAnrqKRdY",
        "outputId": "74d74432-74d7-44c7-cd62-142566f6c36c"
      },
      "execution_count": null,
      "outputs": [
        {
          "output_type": "stream",
          "name": "stdout",
          "text": [
            "\t Amarela\n",
            "alto\n"
          ]
        }
      ]
    },
    {
      "cell_type": "markdown",
      "source": [
        "2.   Uso de barras invertidas duplas para representar no programa uma barra invertida ."
      ],
      "metadata": {
        "id": "umO-pACvNoar"
      }
    },
    {
      "cell_type": "code",
      "source": [
        "endereço = \"www.casa\\\\bairro\\\\cidade\"\n",
        "\n",
        "print(endereço)\n"
      ],
      "metadata": {
        "colab": {
          "base_uri": "https://localhost:8080/"
        },
        "id": "gGQXwzGXOO5K",
        "outputId": "bbda8805-53c1-4ed5-aa84-c62084338677"
      },
      "execution_count": null,
      "outputs": [
        {
          "output_type": "stream",
          "name": "stdout",
          "text": [
            "www.casa\\bairro\\cidade\n"
          ]
        }
      ]
    },
    {
      "cell_type": "markdown",
      "source": [
        "3.   Uso do caractere \"\\t* para criar uma lista e tabular essa lista. O caractere \" \\n \" é usado para pular linha."
      ],
      "metadata": {
        "id": "eZKfRQXoQPeM"
      }
    },
    {
      "cell_type": "code",
      "source": [
        "lista = \" Itens de consumo no café da manhã\"\n",
        "itens = \"\"\"\n",
        "\\t* café \\n\\t* leite\n",
        "\\t* pão\\n\\t* cereais\n",
        "\"\"\"\n",
        "\n",
        "print(lista)\n",
        "print(itens)\n"
      ],
      "metadata": {
        "colab": {
          "base_uri": "https://localhost:8080/"
        },
        "id": "pfVVHLGxQsdi",
        "outputId": "37aba74b-cc81-4af0-a765-219b9b050744"
      },
      "execution_count": null,
      "outputs": [
        {
          "output_type": "stream",
          "name": "stdout",
          "text": [
            " Itens de consumo no café da manhã\n",
            "\n",
            "\t* café \n",
            "\t* leite\n",
            "\t* pão\n",
            "\t* cereais\n",
            "\n"
          ]
        }
      ]
    },
    {
      "cell_type": "markdown",
      "source": [
        "## EXERCÍCIO 11 - Fazendo Perguntas"
      ],
      "metadata": {
        "id": "j_exWfllT3cp"
      }
    },
    {
      "cell_type": "code",
      "source": [
        "print(\"how old are you ?\" ,end = ' ')\n",
        "age = input()\n",
        "print(\"How tall are you?\", end = ' ')\n",
        "height = input()\n",
        "print(\"How much do you weigh?\", end = ' ')\n",
        "weight = input()\n",
        "\n",
        "print(f\"So, you're {age} old, {height} tall and {weight} heavy.\")"
      ],
      "metadata": {
        "colab": {
          "base_uri": "https://localhost:8080/"
        },
        "id": "eC1NW2ZDUKq-",
        "outputId": "b18f2e5e-736b-4956-ad22-4538a35d86d4"
      },
      "execution_count": null,
      "outputs": [
        {
          "output_type": "stream",
          "name": "stdout",
          "text": [
            "how old are you ? 45\n",
            "How tall are you? 1.9\n",
            "How much do you weigh? 60\n",
            "So, you're 45 old, 1.9 tall and 60 heavy.\n"
          ]
        }
      ]
    },
    {
      "cell_type": "markdown",
      "source": [
        "### **Novidades neste exercício**"
      ],
      "metadata": {
        "id": "iS52wZwgYSQX"
      }
    },
    {
      "cell_type": "markdown",
      "source": [
        "1.   Uso do parâmetro, end=' ', permite imprimir um valor no espaço em branco na mesma linha, enquanto a função input aloca o resultado inserido pelo usuário na variável a ele correspondente."
      ],
      "metadata": {
        "id": "KXcpHmzcbONv"
      }
    },
    {
      "cell_type": "code",
      "source": [
        "print(\"Qual é o maior país da America do Sul ?\", end = ' ' )\n",
        "pais = input()\n",
        "\n",
        "print(f\"O maior país da America do sul é o {pais}\")\n"
      ],
      "metadata": {
        "colab": {
          "base_uri": "https://localhost:8080/"
        },
        "id": "lyJUsumBcwV6",
        "outputId": "bb4c809a-a0f8-4b57-e216-563e614a8a4e"
      },
      "execution_count": null,
      "outputs": [
        {
          "output_type": "stream",
          "name": "stdout",
          "text": [
            "Qual é o maior país da America do Sul ? Brasil\n",
            "O maior país da America do sul é o Brasil\n"
          ]
        }
      ]
    },
    {
      "cell_type": "markdown",
      "source": [
        "## EXERCÍCIO 12 - Perguntando às pessoas"
      ],
      "metadata": {
        "id": "oWl0fARufX3f"
      }
    },
    {
      "cell_type": "code",
      "source": [
        "age = input(\"How old are you? \")\n",
        "height = input(\"How tall are you? \")\n",
        "weight = input(\"How much do you weigh? \")\n",
        "\n",
        "print(f\"So, you're {age} old, {height} tall and {weight} heavy.\")"
      ],
      "metadata": {
        "colab": {
          "base_uri": "https://localhost:8080/"
        },
        "id": "0iDadElLfmeP",
        "outputId": "0552727f-ce96-4a2f-aec1-7b4412decb2e"
      },
      "execution_count": null,
      "outputs": [
        {
          "output_type": "stream",
          "name": "stdout",
          "text": [
            "How old are you? 54\n",
            "How tall are you? 1.75\n",
            "How much do you weigh? 89\n",
            "So, you're 54 old, 1.75 tall and 89 heavy.\n"
          ]
        }
      ]
    },
    {
      "cell_type": "markdown",
      "source": [
        "### **Novidades neste exercício**\n",
        "\n",
        "\n",
        "1.   inserção da pergunta dento da função input."
      ],
      "metadata": {
        "id": "9StUADETgYKF"
      }
    },
    {
      "cell_type": "code",
      "source": [
        "age = input(\"How old are you? \")\n",
        "print(f\"So, you're {age} old\")"
      ],
      "metadata": {
        "colab": {
          "base_uri": "https://localhost:8080/"
        },
        "id": "7as3IzrohA-N",
        "outputId": "4bfcfa50-3bef-48cd-f60b-1128ea84bedd"
      },
      "execution_count": null,
      "outputs": [
        {
          "output_type": "stream",
          "name": "stdout",
          "text": [
            "How old are you? 54\n",
            "So, you're 54 old\n"
          ]
        }
      ]
    },
    {
      "cell_type": "markdown",
      "source": [
        "## EXERCÍCIO 13 - Instruções IF"
      ],
      "metadata": {
        "id": "5QRWqwIuoYXH"
      }
    },
    {
      "cell_type": "code",
      "source": [
        "people = 20\n",
        "cats = 30\n",
        "dogs = 15\n",
        "\n",
        "if people < cats:\n",
        "  print(\"Too many cats ! the world is doommed !\")\n",
        "\n",
        "if people > cats:\n",
        "  print(\"Not many cats ! The world is saved !\")\n",
        "\n",
        "if people < dogs:\n",
        "  print(\"The world is drooled on !\")\n",
        "\n",
        "if people > dogs:\n",
        "  print(\"The world is dry !\")\n",
        "\n",
        "dogs += 5\n",
        "\n",
        "if people >= dogs:\n",
        "  print(\"People are greater than or equal to dogs.\")\n",
        "\n",
        "if people <= dogs:\n",
        "  print(\"People are less than or equal to dogs.\")\n",
        "\n",
        "if people == dogs:\n",
        "  print(\"people are dogs\")"
      ],
      "metadata": {
        "colab": {
          "base_uri": "https://localhost:8080/"
        },
        "id": "WmnpmCG3qqbv",
        "outputId": "0ef3df70-3491-4eaf-d7d9-c47b04077f0c"
      },
      "execution_count": null,
      "outputs": [
        {
          "output_type": "stream",
          "name": "stdout",
          "text": [
            "Too many cats ! the world is doommed !\n",
            "The world is dry !\n",
            "People are greater than or equal to dogs.\n",
            "People are less than or equal to dogs.\n",
            "people are dogs\n"
          ]
        }
      ]
    },
    {
      "cell_type": "markdown",
      "source": [
        "### **Novidades neste exercício**\n",
        "\n",
        "1.   A inserção do caractere += ao repetir uma variável existente lhe atribuindo um valor numérico, faz com que esse ultimo valor numérico seja somado ao valor numérico da variável anterior. Uso da condicional IF para validar ou não a impressão, nesse caso respectivo."
      ],
      "metadata": {
        "id": "1mafxYnsxOji"
      }
    },
    {
      "cell_type": "code",
      "source": [
        "bananas = 10\n",
        "laranjas = 5\n",
        "\n",
        "if bananas >= laranjas:# condicional if para validar impressão nesse caso\n",
        "  print(\"Faremos vitamina de bananas.\")\n",
        "\n",
        "laranjas +=5 # adiciona o valor dessa variável ao valor anterior dessa variável\n",
        "\n",
        "if bananas == laranjas:\n",
        "  print(\"Faremos suco de laranjas.\")"
      ],
      "metadata": {
        "colab": {
          "base_uri": "https://localhost:8080/"
        },
        "id": "dckhleGn0Ec1",
        "outputId": "009eb74e-a8f8-4be2-f721-83c52634c51f"
      },
      "execution_count": null,
      "outputs": [
        {
          "output_type": "stream",
          "name": "stdout",
          "text": [
            "Faremos vitamina de bananas\n",
            "Faremos suco de laranjas\n"
          ]
        }
      ]
    },
    {
      "cell_type": "markdown",
      "source": [
        "## EXERCÍCIO 14 - Else e IF"
      ],
      "metadata": {
        "id": "xHNEQLEV3gQe"
      }
    },
    {
      "cell_type": "code",
      "source": [
        "people = 30\n",
        "cars = 40\n",
        "trucks = 15\n",
        "\n",
        "if cars > people:\n",
        "  print(\"We should take the cars.\")\n",
        "elif cars < people:# condicional equivalente ao \"senão se\".\n",
        "  print(\"We should not take the cars\")\n",
        "else:# condicional equivalente ao senão.\n",
        "  print(\"We can't decide.\")\n",
        "\n",
        "if trucks > cars:\n",
        "  print(\"That's too many trucks.\")\n",
        "elif trucks < cars:\n",
        "  print(\"Maybe we could take the trucks.\")\n",
        "else:\n",
        "  print(\"We still can't decide.\")\n",
        "\n",
        "if people > trucks:\n",
        "  print(\"Alright, Let's just take the trucks.\")\n",
        "else:\n",
        "  print(\"Fine, let's stay home then.\")\n",
        "\n"
      ],
      "metadata": {
        "colab": {
          "base_uri": "https://localhost:8080/"
        },
        "id": "64NwTD_Q30hl",
        "outputId": "3a06bf4a-c69f-4b54-fafd-74a67e76240b"
      },
      "execution_count": null,
      "outputs": [
        {
          "output_type": "stream",
          "name": "stdout",
          "text": [
            "We should take the cars.\n",
            "Maybe we could take the trucks.\n",
            "Alright, Let's just take the trucks.\n"
          ]
        }
      ]
    },
    {
      "cell_type": "markdown",
      "source": [
        "### **Novidades neste exercício**\n",
        "\n",
        "1.   O uso da condicional ELIF para especificar uma nova condição para testar se a primeira condição for falsa."
      ],
      "metadata": {
        "id": "xuGHtfj3_aLO"
      }
    },
    {
      "cell_type": "code",
      "source": [
        "if trucks > cars:\n",
        "  print(\"That's too many trucks.\")\n",
        "elif trucks < cars:# condicional equivalente ao \"senão se\".\n",
        "  print(\"Maybe we could take the trucks.\")\n",
        "else:\n",
        "  print(\"We still can't decide.\")"
      ],
      "metadata": {
        "colab": {
          "base_uri": "https://localhost:8080/"
        },
        "id": "V9BZpDwuAKzT",
        "outputId": "94b91543-97e5-475f-b59d-849e85edef22"
      },
      "execution_count": null,
      "outputs": [
        {
          "output_type": "stream",
          "name": "stdout",
          "text": [
            "Maybe we could take the trucks.\n"
          ]
        }
      ]
    },
    {
      "cell_type": "markdown",
      "source": [
        "2.   O uso da condicional ELSE ocorre para especificar um bloco de código a ser executado se a condição for falsa."
      ],
      "metadata": {
        "id": "nI2RpSIJAs6D"
      }
    },
    {
      "cell_type": "code",
      "source": [
        "if people < trucks:\n",
        "  print(\"Alright, Let's just take the trucks.\")\n",
        "else: # condicional equivalente ao senão.\n",
        "  print(\"Fine, let's stay home then.\")"
      ],
      "metadata": {
        "colab": {
          "base_uri": "https://localhost:8080/"
        },
        "id": "NzjYDRegBNB5",
        "outputId": "51d846fd-06a8-4d11-a1af-a9eb84b3d887"
      },
      "execution_count": null,
      "outputs": [
        {
          "output_type": "stream",
          "name": "stdout",
          "text": [
            "Fine, let's stay home then.\n"
          ]
        }
      ]
    },
    {
      "cell_type": "markdown",
      "source": [
        "## EXERCÍCIO 15 - Tomando Decisões"
      ],
      "metadata": {
        "id": "Uf8BAMnJCmbT"
      }
    },
    {
      "cell_type": "code",
      "source": [
        "print(\"\"\"You enter a dark room with two doors.\n",
        "      Do you go throught door #1 or door #2? \"\"\")\n",
        "\n",
        "door = input(\"> \")\n",
        "\n",
        "if door == \"1\":\n",
        "  print(\"There's a giant bear here eating a cheese cake.\")\n",
        "  print(\"What do you do?\")\n",
        "  print(\"1. Take the cake.\")\n",
        "  print(\"2. Scream at the bear.\")\n",
        "\n",
        "  bear = input(\"> \")\n",
        "\n",
        "  if  bear == \"1\":\n",
        "    print(\"The bear eats your face off. good job!\")\n",
        "  elif bear == \"2\":\n",
        "    print(\"The bear eats your legs off. Good job!\")\n",
        "  else:\n",
        "    print(f\"Well, doing {bear} is probally better.\")\n",
        "    print(\"Bear runs away.\")\n",
        "\n",
        "elif door == \"2\":\n",
        "  print(\"You stare into the endless abyss at Cthulhu's retina.\")\n",
        "  print(\"1. blueberies\")\n",
        "  print(\"2. yellow jacket clothespins.\")\n",
        "  print(\"3. understanding revolvers yelling melodies.\")\n",
        "\n",
        "  insanity = input(\"> \")\n",
        "\n",
        "  if insanity == \"1\" or insanity == \"2\":\n",
        "    print(\"Your body survives powered by a mind of jello.\")\n",
        "    print(\"Good job!\")\n",
        "  else:\n",
        "    print(\"The insanity roots your eyes into a pool of muck.\")\n",
        "    print(\"Good job!\")\n",
        "\n",
        "else:\n",
        "  print(\"you stamble around and fall on a knife and die. Good job!\")"
      ],
      "metadata": {
        "colab": {
          "base_uri": "https://localhost:8080/"
        },
        "id": "xkFjV2I9JXSE",
        "outputId": "37fbddda-f789-4fac-a1e6-52f3b32f15b2"
      },
      "execution_count": null,
      "outputs": [
        {
          "output_type": "stream",
          "name": "stdout",
          "text": [
            "You enter a dark room with two doors.\n",
            "      Do you go throught door #1 or door #2? \n",
            "> 1\n",
            "There's a giant bear here eating a cheese cake.\n",
            "What do you do?\n",
            "1. Take the cake.\n",
            "2. Scream at the bear.\n",
            "> 2\n",
            "The bear eats your legs off. Good job!\n"
          ]
        }
      ]
    },
    {
      "cell_type": "markdown",
      "source": [
        "### **Novidades neste exercício**\n",
        "\n",
        "1.   O uso dos condicionais IF, ELIF e ELSE dentro de outros condicionais IF, ELIF e ELSE."
      ],
      "metadata": {
        "id": "XkVuSVuCTVhN"
      }
    },
    {
      "cell_type": "code",
      "source": [
        "if door == \"1\":# condicional\n",
        "  print(\"There's a giant bear here eating a cheese cake.\")\n",
        "  print(\"What do you do?\")\n",
        "  print(\"1. Take the cake.\")\n",
        "  print(\"2. Scream at the bear.\")\n",
        "\n",
        "  bear = input(\"> \")\n",
        "\n",
        "  if  bear == \"1\":# condicional \"se\"  dentro de uma condicional \"se\"\n",
        "    print(\"The bear eats your face off. good job!\")\n",
        "  elif bear == \"2\":# condicional \"senão se\" dentro de uma condicional \"se\"\n",
        "    print(\"The bear eats your legs off. Good job!\")\n",
        "  else:# condicional \"senão\" dentro de uma condicional \"se\"\n",
        "    print(f\"Well, doing {bear} is probally better.\")\n",
        "    print(\"Bear runs away.\")"
      ],
      "metadata": {
        "id": "1JVmfgOTUHKk"
      },
      "execution_count": null,
      "outputs": []
    }
  ]
}